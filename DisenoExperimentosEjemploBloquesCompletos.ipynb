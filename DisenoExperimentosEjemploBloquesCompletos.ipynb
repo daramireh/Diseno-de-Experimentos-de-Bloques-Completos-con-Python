{
 "cells": [
  {
   "cell_type": "code",
   "execution_count": 36,
   "id": "8c0c227d",
   "metadata": {},
   "outputs": [
    {
     "name": "stdout",
     "output_type": "stream",
     "text": [
      "Collecting statsNote: you may need to restart the kernel to use updated packages.\n",
      "  Downloading stats-0.1.2a.tar.gz (127 kB)\n",
      "  Preparing metadata (setup.py): started\n",
      "  Preparing metadata (setup.py): finished with status 'done'\n",
      "\n"
     ]
    },
    {
     "name": "stderr",
     "output_type": "stream",
     "text": [
      "WARNING: You are using pip version 21.3.1; however, version 22.0.4 is available.\n",
      "You should consider upgrading via the 'c:\\users\\dell\\appdata\\local\\programs\\python\\python39\\python.exe -m pip install --upgrade pip' command.\n"
     ]
    },
    {
     "name": "stdout",
     "output_type": "stream",
     "text": [
      "Building wheels for collected packages: stats\n",
      "  Building wheel for stats (setup.py): started\n",
      "  Building wheel for stats (setup.py): finished with status 'done'\n",
      "  Created wheel for stats: filename=stats-0.1.2a0-py3-none-any.whl size=24297 sha256=d2943efa98c1e8a980e76b19a848dae6804336877541e8e9a5576b6c49b71983\n",
      "  Stored in directory: c:\\users\\dell\\appdata\\local\\pip\\cache\\wheels\\15\\a4\\f5\\a7431ca9ac466505e866f76a55ae9f94192eafb0f634fce49f\n",
      "Successfully built stats\n",
      "Installing collected packages: stats\n",
      "Successfully installed stats-0.1.2a0\n"
     ]
    }
   ],
   "source": [
    "%pip install stats"
   ]
  },
  {
   "cell_type": "code",
   "execution_count": 124,
   "id": "da0cf879",
   "metadata": {},
   "outputs": [
    {
     "name": "stdout",
     "output_type": "stream",
     "text": [
      "Collecting scikit-posthocs\n",
      "  Downloading scikit-posthocs-0.6.7.tar.gz (43 kB)\n",
      "  Installing build dependencies: started\n",
      "  Installing build dependencies: finished with status 'done'\n",
      "  Getting requirements to build wheel: started\n",
      "  Getting requirements to build wheel: finished with status 'done'\n",
      "  Preparing metadata (pyproject.toml): started\n",
      "  Preparing metadata (pyproject.toml): finished with status 'done'Note: you may need to restart the kernel to use updated packages.\n",
      "\n"
     ]
    },
    {
     "name": "stderr",
     "output_type": "stream",
     "text": [
      "WARNING: You are using pip version 21.3.1; however, version 22.0.4 is available.\n",
      "You should consider upgrading via the 'c:\\users\\dell\\appdata\\local\\programs\\python\\python39\\python.exe -m pip install --upgrade pip' command.\n"
     ]
    },
    {
     "name": "stdout",
     "output_type": "stream",
     "text": [
      "Requirement already satisfied: matplotlib in c:\\users\\dell\\appdata\\local\\programs\\python\\python39\\lib\\site-packages (from scikit-posthocs) (3.5.1)\n",
      "Requirement already satisfied: seaborn in c:\\users\\dell\\appdata\\local\\programs\\python\\python39\\lib\\site-packages (from scikit-posthocs) (0.11.2)\n",
      "Requirement already satisfied: numpy in c:\\users\\dell\\appdata\\local\\programs\\python\\python39\\lib\\site-packages (from scikit-posthocs) (1.20.3)\n",
      "Requirement already satisfied: scipy in c:\\users\\dell\\appdata\\local\\programs\\python\\python39\\lib\\site-packages (from scikit-posthocs) (1.7.3)\n",
      "Requirement already satisfied: pandas>=0.20.0 in c:\\users\\dell\\appdata\\local\\programs\\python\\python39\\lib\\site-packages (from scikit-posthocs) (1.3.5)\n",
      "Requirement already satisfied: statsmodels in c:\\users\\dell\\appdata\\local\\programs\\python\\python39\\lib\\site-packages (from scikit-posthocs) (0.13.2)\n",
      "Requirement already satisfied: python-dateutil>=2.7.3 in c:\\users\\dell\\appdata\\local\\programs\\python\\python39\\lib\\site-packages (from pandas>=0.20.0->scikit-posthocs) (2.8.2)\n",
      "Requirement already satisfied: pytz>=2017.3 in c:\\users\\dell\\appdata\\local\\programs\\python\\python39\\lib\\site-packages (from pandas>=0.20.0->scikit-posthocs) (2021.3)\n",
      "Requirement already satisfied: fonttools>=4.22.0 in c:\\users\\dell\\appdata\\local\\programs\\python\\python39\\lib\\site-packages (from matplotlib->scikit-posthocs) (4.28.4)\n",
      "Requirement already satisfied: kiwisolver>=1.0.1 in c:\\users\\dell\\appdata\\local\\programs\\python\\python39\\lib\\site-packages (from matplotlib->scikit-posthocs) (1.3.2)\n",
      "Requirement already satisfied: pillow>=6.2.0 in c:\\users\\dell\\appdata\\local\\programs\\python\\python39\\lib\\site-packages (from matplotlib->scikit-posthocs) (8.4.0)\n",
      "Requirement already satisfied: packaging>=20.0 in c:\\users\\dell\\appdata\\local\\programs\\python\\python39\\lib\\site-packages (from matplotlib->scikit-posthocs) (21.3)\n",
      "Requirement already satisfied: cycler>=0.10 in c:\\users\\dell\\appdata\\local\\programs\\python\\python39\\lib\\site-packages (from matplotlib->scikit-posthocs) (0.11.0)\n",
      "Requirement already satisfied: pyparsing>=2.2.1 in c:\\users\\dell\\appdata\\local\\programs\\python\\python39\\lib\\site-packages (from matplotlib->scikit-posthocs) (3.0.6)\n",
      "Requirement already satisfied: patsy>=0.5.2 in c:\\users\\dell\\appdata\\local\\programs\\python\\python39\\lib\\site-packages (from statsmodels->scikit-posthocs) (0.5.2)\n",
      "Requirement already satisfied: six in c:\\users\\dell\\appdata\\local\\programs\\python\\python39\\lib\\site-packages (from patsy>=0.5.2->statsmodels->scikit-posthocs) (1.16.0)\n",
      "Building wheels for collected packages: scikit-posthocs\n",
      "  Building wheel for scikit-posthocs (pyproject.toml): started\n",
      "  Building wheel for scikit-posthocs (pyproject.toml): finished with status 'done'\n",
      "  Created wheel for scikit-posthocs: filename=scikit_posthocs-0.6.7-py3-none-any.whl size=37903 sha256=eee279a6a1b0df3e5cd719db34e5575408d396b76c7ac66f51fc682d9a95111c\n",
      "  Stored in directory: c:\\users\\dell\\appdata\\local\\pip\\cache\\wheels\\9d\\b3\\0e\\48fc4edf03f0cace0bb10215f6103591b62f143ace946c193c\n",
      "Successfully built scikit-posthocs\n",
      "Installing collected packages: scikit-posthocs\n",
      "Successfully installed scikit-posthocs-0.6.7\n"
     ]
    }
   ],
   "source": [
    "%pip install scikit-posthocs"
   ]
  },
  {
   "cell_type": "code",
   "execution_count": 30,
   "id": "aa5ccf25",
   "metadata": {},
   "outputs": [
    {
     "name": "stdout",
     "output_type": "stream",
     "text": [
      "Requirement already satisfied: seaborn in c:\\users\\dell\\appdata\\local\\programs\\python\\python39\\lib\\site-packages (0.11.2)\n",
      "Requirement already satisfied: numpy>=1.15 in c:\\users\\dell\\appdata\\local\\programs\\python\\python39\\lib\\site-packages (from seaborn) (1.20.3)\n",
      "Requirement already satisfied: scipy>=1.0 in c:\\users\\dell\\appdata\\local\\programs\\python\\python39\\lib\\site-packages (from seaborn) (1.7.3)\n",
      "Requirement already satisfied: pandas>=0.23 in c:\\users\\dell\\appdata\\local\\programs\\python\\python39\\lib\\site-packages (from seaborn) (1.3.5)\n",
      "Requirement already satisfied: matplotlib>=2.2 in c:\\users\\dell\\appdata\\local\\programs\\python\\python39\\lib\\site-packages (from seaborn) (3.5.1)\n",
      "Requirement already satisfied: kiwisolver>=1.0.1 in c:\\users\\dell\\appdata\\local\\programs\\python\\python39\\lib\\site-packages (from matplotlib>=2.2->seaborn) (1.3.2)\n",
      "Requirement already satisfied: python-dateutil>=2.7 in c:\\users\\dell\\appdata\\local\\programs\\python\\python39\\lib\\site-packages (from matplotlib>=2.2->seaborn) (2.8.2)\n",
      "Requirement already satisfied: cycler>=0.10 in c:\\users\\dell\\appdata\\local\\programs\\python\\python39\\lib\\site-packages (from matplotlib>=2.2->seaborn) (0.11.0)\n",
      "Requirement already satisfied: pyparsing>=2.2.1 in c:\\users\\dell\\appdata\\local\\programs\\python\\python39\\lib\\site-packages (from matplotlib>=2.2->seaborn) (3.0.6)\n",
      "Requirement already satisfied: packaging>=20.0 in c:\\users\\dell\\appdata\\local\\programs\\python\\python39\\lib\\site-packages (from matplotlib>=2.2->seaborn) (21.3)\n",
      "Requirement already satisfied: pillow>=6.2.0 in c:\\users\\dell\\appdata\\local\\programs\\python\\python39\\lib\\site-packages (from matplotlib>=2.2->seaborn) (8.4.0)\n",
      "Requirement already satisfied: fonttools>=4.22.0 in c:\\users\\dell\\appdata\\local\\programs\\python\\python39\\lib\\site-packages (from matplotlib>=2.2->seaborn) (4.28.4)\n",
      "Requirement already satisfied: pytz>=2017.3 in c:\\users\\dell\\appdata\\local\\programs\\python\\python39\\lib\\site-packages (from pandas>=0.23->seaborn) (2021.3)\n",
      "Requirement already satisfied: six>=1.5 in c:\\users\\dell\\appdata\\local\\programs\\python\\python39\\lib\\site-packages (from python-dateutil>=2.7->matplotlib>=2.2->seaborn) (1.16.0)\n",
      "Note: you may need to restart the kernel to use updated packages.\n"
     ]
    },
    {
     "name": "stderr",
     "output_type": "stream",
     "text": [
      "WARNING: You are using pip version 21.3.1; however, version 22.0.4 is available.\n",
      "You should consider upgrading via the 'c:\\users\\dell\\appdata\\local\\programs\\python\\python39\\python.exe -m pip install --upgrade pip' command.\n"
     ]
    },
    {
     "name": "stdout",
     "output_type": "stream",
     "text": [
      "Requirement already satisfied: statsmodels in c:\\users\\dell\\appdata\\local\\programs\\python\\python39\\lib\\site-packages (0.13.2)\n",
      "Requirement already satisfied: pandas>=0.25 in c:\\users\\dell\\appdata\\local\\programs\\python\\python39\\lib\\site-packages (from statsmodels) (1.3.5)\n",
      "Requirement already satisfied: packaging>=21.3 in c:\\users\\dell\\appdata\\local\\programs\\python\\python39\\lib\\site-packages (from statsmodels) (21.3)\n",
      "Requirement already satisfied: patsy>=0.5.2 in c:\\users\\dell\\appdata\\local\\programs\\python\\python39\\lib\\site-packages (from statsmodels) (0.5.2)\n",
      "Requirement already satisfied: numpy>=1.17 in c:\\users\\dell\\appdata\\local\\programs\\python\\python39\\lib\\site-packages (from statsmodels) (1.20.3)\n",
      "Requirement already satisfied: scipy>=1.3 in c:\\users\\dell\\appdata\\local\\programs\\python\\python39\\lib\\site-packages (from statsmodels) (1.7.3)\n",
      "Requirement already satisfied: pyparsing!=3.0.5,>=2.0.2 in c:\\users\\dell\\appdata\\local\\programs\\python\\python39\\lib\\site-packages (from packaging>=21.3->statsmodels) (3.0.6)\n",
      "Requirement already satisfied: pytz>=2017.3 in c:\\users\\dell\\appdata\\local\\programs\\python\\python39\\lib\\site-packages (from pandas>=0.25->statsmodels) (2021.3)\n",
      "Requirement already satisfied: python-dateutil>=2.7.3 in c:\\users\\dell\\appdata\\local\\programs\\python\\python39\\lib\\site-packages (from pandas>=0.25->statsmodels) (2.8.2)\n",
      "Requirement already satisfied: six in c:\\users\\dell\\appdata\\local\\programs\\python\\python39\\lib\\site-packages (from patsy>=0.5.2->statsmodels) (1.16.0)\n",
      "Note: you may need to restart the kernel to use updated packages.\n"
     ]
    },
    {
     "name": "stderr",
     "output_type": "stream",
     "text": [
      "WARNING: You are using pip version 21.3.1; however, version 22.0.4 is available.\n",
      "You should consider upgrading via the 'c:\\users\\dell\\appdata\\local\\programs\\python\\python39\\python.exe -m pip install --upgrade pip' command.\n"
     ]
    },
    {
     "name": "stdout",
     "output_type": "stream",
     "text": [
      "Requirement already satisfied: openpyxl in c:\\users\\dell\\appdata\\local\\programs\\python\\python39\\lib\\site-packages (3.0.9)\n",
      "Requirement already satisfied: et-xmlfile in c:\\users\\dell\\appdata\\local\\programs\\python\\python39\\lib\\site-packages (from openpyxl) (1.1.0)\n",
      "Note: you may need to restart the kernel to use updated packages.\n"
     ]
    },
    {
     "name": "stderr",
     "output_type": "stream",
     "text": [
      "WARNING: You are using pip version 21.3.1; however, version 22.0.4 is available.\n",
      "You should consider upgrading via the 'c:\\users\\dell\\appdata\\local\\programs\\python\\python39\\python.exe -m pip install --upgrade pip' command.\n"
     ]
    },
    {
     "name": "stdout",
     "output_type": "stream",
     "text": [
      "Collecting researchpy\n",
      "  Downloading researchpy-0.3.2-py3-none-any.whl (15 kB)\n",
      "Requirement already satisfied: patsy in c:\\users\\dell\\appdata\\local\\programs\\python\\python39\\lib\\site-packages (from researchpy) (0.5.2)\n",
      "Requirement already satisfied: pandas in c:\\users\\dell\\appdata\\local\\programs\\python\\python39\\lib\\site-packages (from researchpy) (1.3.5)\n",
      "Requirement already satisfied: statsmodels in c:\\users\\dell\\appdata\\local\\programs\\python\\python39\\lib\\site-packages (from researchpy) (0.13.2)\n",
      "Requirement already satisfied: numpy in c:\\users\\dell\\appdata\\local\\programs\\python\\python39\\lib\\site-packages (from researchpy) (1.20.3)\n",
      "Requirement already satisfied: scipy in c:\\users\\dell\\appdata\\local\\programs\\python\\python39\\lib\\site-packages (from researchpy) (1.7.3)\n",
      "Requirement already satisfied: pytz>=2017.3 in c:\\users\\dell\\appdata\\local\\programs\\python\\python39\\lib\\site-packages (from pandas->researchpy) (2021.3)\n",
      "Requirement already satisfied: python-dateutil>=2.7.3 in c:\\users\\dell\\appdata\\local\\programs\\python\\python39\\lib\\site-packages (from pandas->researchpy) (2.8.2)\n",
      "Requirement already satisfied: six in c:\\users\\dell\\appdata\\local\\programs\\python\\python39\\lib\\site-packages (from patsy->researchpy) (1.16.0)\n",
      "Requirement already satisfied: packaging>=21.3 in c:\\users\\dell\\appdata\\local\\programs\\python\\python39\\lib\\site-packages (from statsmodels->researchpy) (21.3)\n",
      "Requirement already satisfied: pyparsing!=3.0.5,>=2.0.2 in c:\\users\\dell\\appdata\\local\\programs\\python\\python39\\lib\\site-packages (from packaging>=21.3->statsmodels->researchpy) (3.0.6)\n",
      "Installing collected packages: researchpy\n",
      "Successfully installed researchpy-0.3.2\n",
      "Note: you may need to restart the kernel to use updated packages.\n"
     ]
    },
    {
     "name": "stderr",
     "output_type": "stream",
     "text": [
      "WARNING: You are using pip version 21.3.1; however, version 22.0.4 is available.\n",
      "You should consider upgrading via the 'c:\\users\\dell\\appdata\\local\\programs\\python\\python39\\python.exe -m pip install --upgrade pip' command.\n"
     ]
    }
   ],
   "source": [
    "%pip install seaborn\n",
    "%pip install statsmodels\n",
    "%pip install openpyxl\n",
    "%pip install researchpy"
   ]
  },
  {
   "cell_type": "code",
   "execution_count": 133,
   "id": "994cfdfb",
   "metadata": {},
   "outputs": [],
   "source": [
    "# manipulacion de datos\n",
    "import pandas as pd\n",
    "import numpy as np\n",
    "\n",
    "# modelos estadisticos\n",
    "from statsmodels.stats.multicomp import pairwise_tukeyhsd\n",
    "import seaborn as sns\n",
    "from sklearn import linear_model"
   ]
  },
  {
   "cell_type": "code",
   "execution_count": 32,
   "id": "fc3306f3",
   "metadata": {},
   "outputs": [],
   "source": [
    "import researchpy as rp"
   ]
  },
  {
   "cell_type": "code",
   "execution_count": 130,
   "id": "b45d43fa",
   "metadata": {},
   "outputs": [],
   "source": [
    "from scipy.stats import f_oneway"
   ]
  },
  {
   "cell_type": "code",
   "execution_count": 125,
   "id": "98771986",
   "metadata": {},
   "outputs": [],
   "source": [
    "import scikit_posthocs as sp"
   ]
  },
  {
   "cell_type": "code",
   "execution_count": 157,
   "id": "62ba7129",
   "metadata": {},
   "outputs": [],
   "source": [
    "from scipy import stats"
   ]
  },
  {
   "cell_type": "markdown",
   "id": "489b9d44",
   "metadata": {},
   "source": [
    "# Importación de los datos"
   ]
  },
  {
   "cell_type": "code",
   "execution_count": 95,
   "id": "40678676",
   "metadata": {},
   "outputs": [],
   "source": [
    "archivo = 'Ejemplo1.xlsx'"
   ]
  },
  {
   "cell_type": "code",
   "execution_count": 107,
   "id": "e0c55ad5",
   "metadata": {},
   "outputs": [],
   "source": [
    "df = pd.read_excel(archivo)"
   ]
  },
  {
   "cell_type": "markdown",
   "id": "615d156e",
   "metadata": {},
   "source": [
    "## Se transformar las variables 'tratamiento' y 'bloque' a categorica"
   ]
  },
  {
   "cell_type": "code",
   "execution_count": 108,
   "id": "1f91db0b",
   "metadata": {},
   "outputs": [],
   "source": [
    "df['tratamiento'] = df['tratamiento'].astype(object)\n",
    "df['bloque'] = df['bloque'].astype(object)\n"
   ]
  },
  {
   "cell_type": "markdown",
   "id": "8d388bd3",
   "metadata": {},
   "source": [
    "## Construccion del modelo de regresión"
   ]
  },
  {
   "cell_type": "code",
   "execution_count": 109,
   "id": "ed6d6aa2",
   "metadata": {},
   "outputs": [],
   "source": [
    "mod = smf.ols('produccion ~ tratamiento + bloque', data = df).fit()"
   ]
  },
  {
   "cell_type": "markdown",
   "id": "f374e7de",
   "metadata": {},
   "source": [
    "### Anova de la regresión"
   ]
  },
  {
   "cell_type": "code",
   "execution_count": 110,
   "id": "ca6db08b",
   "metadata": {},
   "outputs": [
    {
     "name": "stdout",
     "output_type": "stream",
     "text": [
      "                            OLS Regression Results                            \n",
      "==============================================================================\n",
      "Dep. Variable:             produccion   R-squared:                       0.908\n",
      "Model:                            OLS   Adj. R-squared:                  0.859\n",
      "Method:                 Least Squares   F-statistic:                     18.45\n",
      "Date:                Fri, 01 Apr 2022   Prob (F-statistic):           1.89e-06\n",
      "Time:                        17:08:30   Log-Likelihood:                -41.761\n",
      "No. Observations:                  24   AIC:                             101.5\n",
      "Df Residuals:                      15   BIC:                             112.1\n",
      "Df Model:                           8                                         \n",
      "Covariance Type:            nonrobust                                         \n",
      "====================================================================================\n",
      "                       coef    std err          t      P>|t|      [0.025      0.975]\n",
      "------------------------------------------------------------------------------------\n",
      "Intercept           32.2417      1.068     30.192      0.000      29.965      34.518\n",
      "tratamiento[T.2]    -3.8750      1.233     -3.142      0.007      -6.503      -1.247\n",
      "tratamiento[T.3]    -6.9000      1.233     -5.596      0.000      -9.528      -4.272\n",
      "tratamiento[T.4]    -5.2250      1.233     -4.237      0.001      -7.853      -2.597\n",
      "tratamiento[T.5]    -5.5500      1.233     -4.501      0.000      -8.178      -2.922\n",
      "tratamiento[T.6]   -10.9000      1.233     -8.839      0.000     -13.528      -8.272\n",
      "bloque[T.2]          3.6667      1.007      3.642      0.002       1.521       5.813\n",
      "bloque[T.3]          7.9833      1.007      7.929      0.000       5.837      10.129\n",
      "bloque[T.4]          4.3833      1.007      4.354      0.001       2.237       6.529\n",
      "==============================================================================\n",
      "Omnibus:                        1.035   Durbin-Watson:                   1.764\n",
      "Prob(Omnibus):                  0.596   Jarque-Bera (JB):                0.985\n",
      "Skew:                          -0.418   Prob(JB):                        0.611\n",
      "Kurtosis:                       2.467   Cond. No.                         7.48\n",
      "==============================================================================\n",
      "\n",
      "Notes:\n",
      "[1] Standard Errors assume that the covariance matrix of the errors is correctly specified.\n"
     ]
    }
   ],
   "source": [
    "print(mod.summary())"
   ]
  },
  {
   "cell_type": "markdown",
   "id": "aad39d36",
   "metadata": {},
   "source": [
    "### De acuerdo con los resultados obtenidos en el ANOVA, se evidencia que los tratamientos y los bloques presentan impacto significativos en los efectos del experimiento, por lo tanto, se confirma la necesidad de bloquear y qué las medias de los tratamientos no son iguales."
   ]
  },
  {
   "cell_type": "markdown",
   "id": "633dbdd9",
   "metadata": {},
   "source": [
    "## Comprobación de los supuestos del error del experimento (El error tiene distribución normal con media 0 y varianza sigma\n",
    "\n",
    "## Se comprueba normalidad, esperanza y homocedasticidad"
   ]
  },
  {
   "cell_type": "code",
   "execution_count": 140,
   "id": "f3f18b45",
   "metadata": {},
   "outputs": [],
   "source": [
    "#Calculo de residuos del modelo\n",
    "\n",
    "predichos = mod.predict()\n",
    "predichos\n",
    "residuos = df['produccion'] - predichos\n",
    "#residuos"
   ]
  },
  {
   "cell_type": "code",
   "execution_count": 146,
   "id": "2a24e7e7",
   "metadata": {},
   "outputs": [
    {
     "data": {
      "text/plain": [
       "ShapiroResult(statistic=0.9673140645027161, pvalue=0.6013219356536865)"
      ]
     },
     "execution_count": 146,
     "metadata": {},
     "output_type": "execute_result"
    }
   ],
   "source": [
    "# Prueba de normalidad de Shapiro Wilk\n",
    "\n",
    "shapiro_test = stats.shapiro(residuos)\n",
    "shapiro_test"
   ]
  },
  {
   "cell_type": "code",
   "execution_count": 153,
   "id": "cd58ccf1",
   "metadata": {},
   "outputs": [
    {
     "data": {
      "text/plain": [
       "LeveneResult(statistic=2.6460413817672066, pvalue=0.11064004396863429)"
      ]
     },
     "execution_count": 153,
     "metadata": {},
     "output_type": "execute_result"
    }
   ],
   "source": [
    "# Levene test de homocedasticidad\n",
    "\n",
    "levene_test = stats.levene(residuos, df['tratamiento'], center='median')\n",
    "levene_test"
   ]
  },
  {
   "cell_type": "code",
   "execution_count": 154,
   "id": "8aac1394",
   "metadata": {},
   "outputs": [
    {
     "data": {
      "text/plain": [
       "BartlettResult(statistic=1.0241775934938384, pvalue=0.31153011768373795)"
      ]
     },
     "execution_count": 154,
     "metadata": {},
     "output_type": "execute_result"
    }
   ],
   "source": [
    "# Bartlett test de Homocedasticidad\n",
    "\n",
    "bartlett_test = stats.bartlett(residuos, df['tratamiento'])\n",
    "bartlett_test"
   ]
  },
  {
   "cell_type": "code",
   "execution_count": 159,
   "id": "d85b2364",
   "metadata": {},
   "outputs": [
    {
     "data": {
      "text/plain": [
       "-3.7451523364021945e-14"
      ]
     },
     "execution_count": 159,
     "metadata": {},
     "output_type": "execute_result"
    }
   ],
   "source": [
    "# Esperanza del error = 0\n",
    "\n",
    "np.mean(residuos)"
   ]
  },
  {
   "cell_type": "markdown",
   "id": "6d054419",
   "metadata": {},
   "source": [
    "## Dado que se confirman los supuestos estadísticos del modelo, se procede a encontrar los tratamientos cuyas medias son diferentes"
   ]
  },
  {
   "cell_type": "code",
   "execution_count": 119,
   "id": "55025398",
   "metadata": {},
   "outputs": [
    {
     "data": {
      "text/plain": [
       "<AxesSubplot:xlabel='bloque', ylabel='produccion'>"
      ]
     },
     "execution_count": 119,
     "metadata": {},
     "output_type": "execute_result"
    },
    {
     "data": {
      "image/png": "[encoded data removed]",
      "text/plain": [
       "<Figure size 432x288 with 1 Axes>"
      ]
     },
     "metadata": {
      "needs_background": "light"
     },
     "output_type": "display_data"
    }
   ],
   "source": [
    "#Grafico de caja y bigotes\n",
    "\n",
    "sns.boxplot(y = df['produccion'], x = df['bloque'], data = df)"
   ]
  },
  {
   "cell_type": "markdown",
   "id": "e7b83ecf",
   "metadata": {},
   "source": [
    "## Las pruebas posthoc de Scheffe y TukeyHSD permiten encontrar diferencias entre las medias de los tratamientos haciendo una comparación multiple entre los pares de estos.\n",
    "\n",
    "## Ambas pruebas muestran los mismos resultados, pero se realizan ambas para probar los resultados."
   ]
  },
  {
   "cell_type": "code",
   "execution_count": 127,
   "id": "74752112",
   "metadata": {},
   "outputs": [
    {
     "data": {
      "text/html": [
       "<div>\n",
       "<style scoped>\n",
       "    .dataframe tbody tr th:only-of-type {\n",
       "        vertical-align: middle;\n",
       "    }\n",
       "\n",
       "    .dataframe tbody tr th {\n",
       "        vertical-align: top;\n",
       "    }\n",
       "\n",
       "    .dataframe thead th {\n",
       "        text-align: right;\n",
       "    }\n",
       "</style>\n",
       "<table border=\"1\" class=\"dataframe\">\n",
       "  <thead>\n",
       "    <tr style=\"text-align: right;\">\n",
       "      <th></th>\n",
       "      <th>1</th>\n",
       "      <th>2</th>\n",
       "      <th>3</th>\n",
       "      <th>4</th>\n",
       "      <th>5</th>\n",
       "      <th>6</th>\n",
       "    </tr>\n",
       "  </thead>\n",
       "  <tbody>\n",
       "    <tr>\n",
       "      <th>1</th>\n",
       "      <td>1.000000</td>\n",
       "      <td>0.805267</td>\n",
       "      <td>0.258459</td>\n",
       "      <td>0.548354</td>\n",
       "      <td>0.484483</td>\n",
       "      <td>0.019942</td>\n",
       "    </tr>\n",
       "    <tr>\n",
       "      <th>2</th>\n",
       "      <td>0.805267</td>\n",
       "      <td>1.000000</td>\n",
       "      <td>0.920059</td>\n",
       "      <td>0.997732</td>\n",
       "      <td>0.993756</td>\n",
       "      <td>0.241848</td>\n",
       "    </tr>\n",
       "    <tr>\n",
       "      <th>3</th>\n",
       "      <td>0.258459</td>\n",
       "      <td>0.920059</td>\n",
       "      <td>1.000000</td>\n",
       "      <td>0.993756</td>\n",
       "      <td>0.997732</td>\n",
       "      <td>0.784190</td>\n",
       "    </tr>\n",
       "    <tr>\n",
       "      <th>4</th>\n",
       "      <td>0.548354</td>\n",
       "      <td>0.997732</td>\n",
       "      <td>0.993756</td>\n",
       "      <td>1.000000</td>\n",
       "      <td>0.999998</td>\n",
       "      <td>0.460546</td>\n",
       "    </tr>\n",
       "    <tr>\n",
       "      <th>5</th>\n",
       "      <td>0.484483</td>\n",
       "      <td>0.993756</td>\n",
       "      <td>0.997732</td>\n",
       "      <td>0.999998</td>\n",
       "      <td>1.000000</td>\n",
       "      <td>0.523566</td>\n",
       "    </tr>\n",
       "    <tr>\n",
       "      <th>6</th>\n",
       "      <td>0.019942</td>\n",
       "      <td>0.241848</td>\n",
       "      <td>0.784190</td>\n",
       "      <td>0.460546</td>\n",
       "      <td>0.523566</td>\n",
       "      <td>1.000000</td>\n",
       "    </tr>\n",
       "  </tbody>\n",
       "</table>\n",
       "</div>"
      ],
      "text/plain": [
       "          1         2         3         4         5         6\n",
       "1  1.000000  0.805267  0.258459  0.548354  0.484483  0.019942\n",
       "2  0.805267  1.000000  0.920059  0.997732  0.993756  0.241848\n",
       "3  0.258459  0.920059  1.000000  0.993756  0.997732  0.784190\n",
       "4  0.548354  0.997732  0.993756  1.000000  0.999998  0.460546\n",
       "5  0.484483  0.993756  0.997732  0.999998  1.000000  0.523566\n",
       "6  0.019942  0.241848  0.784190  0.460546  0.523566  1.000000"
      ]
     },
     "execution_count": 127,
     "metadata": {},
     "output_type": "execute_result"
    }
   ],
   "source": [
    "#Prueba de Scheffe para comprobar la diferencia entre los tratamientos\n",
    "\n",
    "sp.posthoc_scheffe(df, val_col = 'produccion', group_col = 'tratamiento')"
   ]
  },
  {
   "cell_type": "code",
   "execution_count": 131,
   "id": "2fe1fff4",
   "metadata": {},
   "outputs": [
    {
     "data": {
      "text/plain": [
       "F_onewayResult(statistic=720.4175452957713, pvalue=5.850936327490669e-47)"
      ]
     },
     "execution_count": 131,
     "metadata": {},
     "output_type": "execute_result"
    }
   ],
   "source": [
    "f_oneway(df['produccion'], df['bloque'], df['tratamiento'])"
   ]
  },
  {
   "cell_type": "code",
   "execution_count": 134,
   "id": "5aeec028",
   "metadata": {},
   "outputs": [
    {
     "name": "stdout",
     "output_type": "stream",
     "text": [
      " Multiple Comparison of Means - Tukey HSD, FWER=0.05 \n",
      "=====================================================\n",
      "group1 group2 meandiff p-adj   lower    upper  reject\n",
      "-----------------------------------------------------\n",
      "     1      2   -3.875 0.6651 -12.0527  4.3027  False\n",
      "     1      3     -6.9  0.128 -15.0777  1.2777  False\n",
      "     1      4   -5.225 0.3642 -13.4027  2.9527  False\n",
      "     1      5    -5.55  0.304 -13.7277  2.6277  False\n",
      "     1      6    -10.9 0.0056 -19.0777 -2.7223   True\n",
      "     2      3   -3.025 0.8425 -11.2027  5.1527  False\n",
      "     2      4    -1.35 0.9944  -9.5277  6.8277  False\n",
      "     2      5   -1.675 0.9851  -9.8527  6.5027  False\n",
      "     2      6   -7.025 0.1172 -15.2027  1.1527  False\n",
      "     3      4    1.675 0.9851  -6.5027  9.8527  False\n",
      "     3      5     1.35 0.9944  -6.8277  9.5277  False\n",
      "     3      6     -4.0 0.6361 -12.1777  4.1777  False\n",
      "     4      5   -0.325    1.0  -8.5027  7.8527  False\n",
      "     4      6   -5.675 0.2826 -13.8527  2.5027  False\n",
      "     5      6    -5.35 0.3402 -13.5277  2.8277  False\n",
      "-----------------------------------------------------\n"
     ]
    }
   ],
   "source": [
    "# Prueba de Tukey\n",
    "\n",
    "tukey = pairwise_tukeyhsd(endog=df['produccion'],\n",
    "                          groups=df['tratamiento'],\n",
    "                          alpha=0.05)\n",
    "\n",
    "#display results\n",
    "print(tukey)"
   ]
  },
  {
   "cell_type": "markdown",
   "id": "aea8519b",
   "metadata": {},
   "source": [
    "## Dado los resultados obtenidos en las pruebas posthoc podemos concluir que los tratamientos, 1 y 6 son diferentes entre sí, al igual que los tratamientos 2 y 6."
   ]
  }
 ],
 "metadata": {
  "kernelspec": {
   "display_name": "Python 3 (ipykernel)",
   "language": "python",
   "name": "python3"
  },
  "language_info": {
   "codemirror_mode": {
    "name": "ipython",
    "version": 3
   },
   "file_extension": ".py",
   "mimetype": "text/x-python",
   "name": "python",
   "nbconvert_exporter": "python",
   "pygments_lexer": "ipython3",
   "version": "3.9.5"
  }
 },
 "nbformat": 4,
 "nbformat_minor": 5
}
